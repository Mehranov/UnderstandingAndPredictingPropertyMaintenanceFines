{
 "cells": [
  {
   "cell_type": "markdown",
   "metadata": {},
   "source": [
    "---\n",
    "\n",
    "_You are currently looking at **version 1.1** of this notebook. To download notebooks and datafiles, as well as get help on Jupyter notebooks in the Coursera platform, visit the [Jupyter Notebook FAQ](https://www.coursera.org/learn/python-machine-learning/resources/bANLa) course resource._\n",
    "\n",
    "---"
   ]
  },
  {
   "cell_type": "markdown",
   "metadata": {},
   "source": [
    "## Assignment 4 - Understanding and Predicting Property Maintenance Fines\n",
    "\n",
    "This assignment is based on a data challenge from the Michigan Data Science Team ([MDST](http://midas.umich.edu/mdst/)). \n",
    "\n",
    "The Michigan Data Science Team ([MDST](http://midas.umich.edu/mdst/)) and the Michigan Student Symposium for Interdisciplinary Statistical Sciences ([MSSISS](https://sites.lsa.umich.edu/mssiss/)) have partnered with the City of Detroit to help solve one of the most pressing problems facing Detroit - blight. [Blight violations](http://www.detroitmi.gov/How-Do-I/Report/Blight-Complaint-FAQs) are issued by the city to individuals who allow their properties to remain in a deteriorated condition. Every year, the city of Detroit issues millions of dollars in fines to residents and every year, many of these fines remain unpaid. Enforcing unpaid blight fines is a costly and tedious process, so the city wants to know: how can we increase blight ticket compliance?\n",
    "\n",
    "The first step in answering this question is understanding when and why a resident might fail to comply with a blight ticket. This is where predictive modeling comes in. For this assignment, your task is to predict whether a given blight ticket will be paid on time.\n",
    "\n",
    "All data for this assignment has been provided to us through the [Detroit Open Data Portal](https://data.detroitmi.gov/). **Only the data already included in your Coursera directory can be used for training the model for this assignment.** Nonetheless, we encourage you to look into data from other Detroit datasets to help inform feature creation and model selection. We recommend taking a look at the following related datasets:\n",
    "\n",
    "* [Building Permits](https://data.detroitmi.gov/Property-Parcels/Building-Permits/xw2a-a7tf)\n",
    "* [Trades Permits](https://data.detroitmi.gov/Property-Parcels/Trades-Permits/635b-dsgv)\n",
    "* [Improve Detroit: Submitted Issues](https://data.detroitmi.gov/Government/Improve-Detroit-Submitted-Issues/fwz3-w3yn)\n",
    "* [DPD: Citizen Complaints](https://data.detroitmi.gov/Public-Safety/DPD-Citizen-Complaints-2016/kahe-efs3)\n",
    "* [Parcel Map](https://data.detroitmi.gov/Property-Parcels/Parcel-Map/fxkw-udwf)\n",
    "\n",
    "___\n",
    "\n",
    "We provide you with two data files for use in training and validating your models: train.csv and test.csv. Each row in these two files corresponds to a single blight ticket, and includes information about when, why, and to whom each ticket was issued. The target variable is compliance, which is True if the ticket was paid early, on time, or within one month of the hearing data, False if the ticket was paid after the hearing date or not at all, and Null if the violator was found not responsible. Compliance, as well as a handful of other variables that will not be available at test-time, are only included in train.csv.\n",
    "\n",
    "Note: All tickets where the violators were found not responsible are not considered during evaluation. They are included in the training set as an additional source of data for visualization, and to enable unsupervised and semi-supervised approaches. However, they are not included in the test set.\n",
    "\n",
    "<br>\n",
    "\n",
    "**File descriptions** (Use only this data for training your model!)\n",
    "\n",
    "    train.csv - the training set (all tickets issued 2004-2011)\n",
    "    test.csv - the test set (all tickets issued 2012-2016)\n",
    "    addresses.csv & latlons.csv - mapping from ticket id to addresses, and from addresses to lat/lon coordinates. \n",
    "     Note: misspelled addresses may be incorrectly geolocated.\n",
    "\n",
    "<br>\n",
    "\n",
    "**Data fields**\n",
    "\n",
    "train.csv & test.csv\n",
    "\n",
    "    ticket_id - unique identifier for tickets\n",
    "    agency_name - Agency that issued the ticket\n",
    "    inspector_name - Name of inspector that issued the ticket\n",
    "    violator_name - Name of the person/organization that the ticket was issued to\n",
    "    violation_street_number, violation_street_name, violation_zip_code - Address where the violation occurred\n",
    "    mailing_address_str_number, mailing_address_str_name, city, state, zip_code, non_us_str_code, country - Mailing address of the violator\n",
    "    ticket_issued_date - Date and time the ticket was issued\n",
    "    hearing_date - Date and time the violator's hearing was scheduled\n",
    "    violation_code, violation_description - Type of violation\n",
    "    disposition - Judgment and judgement type\n",
    "    fine_amount - Violation fine amount, excluding fees\n",
    "    admin_fee - $20 fee assigned to responsible judgments\n",
    "state_fee - $10 fee assigned to responsible judgments\n",
    "    late_fee - 10% fee assigned to responsible judgments\n",
    "    discount_amount - discount applied, if any\n",
    "    clean_up_cost - DPW clean-up or graffiti removal cost\n",
    "    judgment_amount - Sum of all fines and fees\n",
    "    grafitti_status - Flag for graffiti violations\n",
    "    \n",
    "train.csv only\n",
    "\n",
    "    payment_amount - Amount paid, if any\n",
    "    payment_date - Date payment was made, if it was received\n",
    "    payment_status - Current payment status as of Feb 1 2017\n",
    "    balance_due - Fines and fees still owed\n",
    "    collection_status - Flag for payments in collections\n",
    "    compliance [target variable for prediction] \n",
    "     Null = Not responsible\n",
    "     0 = Responsible, non-compliant\n",
    "     1 = Responsible, compliant\n",
    "    compliance_detail - More information on why each ticket was marked compliant or non-compliant\n",
    "\n",
    "\n",
    "___\n",
    "\n",
    "## Evaluation\n",
    "\n",
    "Your predictions will be given as the probability that the corresponding blight ticket will be paid on time.\n",
    "\n",
    "The evaluation metric for this assignment is the Area Under the ROC Curve (AUC). \n",
    "\n",
    "Your grade will be based on the AUC score computed for your classifier. A model which with an AUROC of 0.7 passes this assignment, over 0.75 will recieve full points.\n",
    "___\n",
    "\n",
    "For this assignment, create a function that trains a model to predict blight ticket compliance in Detroit using `train.csv`. Using this model, return a series of length 61001 with the data being the probability that each corresponding ticket from `test.csv` will be paid, and the index being the ticket_id.\n",
    "\n",
    "Example:\n",
    "\n",
    "    ticket_id\n",
    "       284932    0.531842\n",
    "       285362    0.401958\n",
    "       285361    0.105928\n",
    "       285338    0.018572\n",
    "                 ...\n",
    "       376499    0.208567\n",
    "       376500    0.818759\n",
    "       369851    0.018528\n",
    "       Name: compliance, dtype: float32\n",
    "       \n",
    "### Hints\n",
    "\n",
    "* Make sure your code is working before submitting it to the autograder.\n",
    "\n",
    "* Print out your result to see whether there is anything weird (e.g., all probabilities are the same).\n",
    "\n",
    "* Generally the total runtime should be less than 10 mins. You should NOT use Neural Network related classifiers (e.g., MLPClassifier) in this question. \n",
    "\n",
    "* Try to avoid global variables. If you have other functions besides blight_model, you should move those functions inside the scope of blight_model.\n",
    "\n",
    "* Refer to the pinned threads in Week 4's discussion forum when there is something you could not figure it out."
   ]
  },
  {
   "cell_type": "code",
   "execution_count": 26,
   "metadata": {
    "collapsed": false
   },
   "outputs": [
    {
     "name": "stderr",
     "output_type": "stream",
     "text": [
      "/opt/conda/lib/python3.5/site-packages/IPython/core/interactiveshell.py:2717: DtypeWarning: Columns (11,12,31) have mixed types. Specify dtype option on import or set low_memory=False.\n",
      "  interactivity=interactivity, compiler=compiler, result=result)\n",
      "/opt/conda/lib/python3.5/site-packages/ipykernel/__main__.py:75: SettingWithCopyWarning: \n",
      "A value is trying to be set on a copy of a slice from a DataFrame\n",
      "\n",
      "See the caveats in the documentation: http://pandas.pydata.org/pandas-docs/stable/indexing.html#indexing-view-versus-copy\n",
      "/opt/conda/lib/python3.5/site-packages/ipykernel/__main__.py:78: SettingWithCopyWarning: \n",
      "A value is trying to be set on a copy of a slice from a DataFrame\n",
      "\n",
      "See the caveats in the documentation: http://pandas.pydata.org/pandas-docs/stable/indexing.html#indexing-view-versus-copy\n"
     ]
    }
   ],
   "source": [
    "### LOADING DATA AND IMPORTING LIBRARIES\n",
    "import pandas as pd\n",
    "import numpy as np\n",
    "from sklearn.model_selection import train_test_split\n",
    "from sklearn.naive_bayes import GaussianNB\n",
    "from sklearn.ensemble import RandomForestClassifier\n",
    "from sklearn.preprocessing import MinMaxScaler\n",
    "from adspy_shared_utilities import plot_class_regions_for_classifier\n",
    "from sklearn.ensemble import GradientBoostingClassifier\n",
    "from sklearn.metrics import confusion_matrix\n",
    "from sklearn.metrics import roc_curve, auc\n",
    "from sklearn.linear_model import LogisticRegression\n",
    "from sklearn.tree import DecisionTreeClassifier\n",
    "import hashlib\n",
    "from numpy import random\n",
    "\n",
    "\n",
    "train = pd.read_csv('train.csv', encoding = 'ISO-8859-1') # reading data. The files are not in utf8 format so we need to use encoding = 'ISO-8859-1' in order to read them properly \n",
    "test = pd.read_csv('test.csv', encoding = 'ISO-8859-1' )\n",
    "address = pd.read_csv('addresses.csv')\n",
    "latlons = pd.read_csv('latlons.csv')\n",
    "\n",
    "temp = train.dropna(subset=(['compliance'])) # here I drop all rows which the 'compliance' feature is NaN.     \n",
    "\n",
    "#X_train, X_test, y_train, y_test = train_test_split(X, y, random_state = 0)\n",
    "a=pd.merge(address,latlons,on='address')  # merging address and latlons so we have all latlons corresponds to each address and ticket_id\n",
    "b=pd.merge(a,temp,on='ticket_id') # in temp (which is the same as train without rows of NaN values for 'compliance) we add corresponding latlons to each ticket_id\n",
    "\n",
    "############################################\n",
    "b1=pd.merge(a,test,on='ticket_id')\n",
    "############################################\n",
    "\n",
    "address_related_columns=['address','violation_street_number','violation_street_name','mailing_address_str_number',\n",
    "                         'mailing_address_str_name', 'zip_code','non_us_str_code']\n",
    "b.drop(address_related_columns,axis=1,inplace=True) #remove all address related columns in b and only keep latlons data for address\n",
    "\n",
    "###########################################\n",
    "b1.drop(address_related_columns,axis=1,inplace=True)\n",
    "###########################################\n",
    "\n",
    "\n",
    "b = b.dropna(subset=(['lat','lon']))\n",
    "\n",
    "###########################################\n",
    "#b1 = b1.dropna(subset=(['lat','lon']))\n",
    "b1.lat.fillna(b1.lat.mean(),inplace=True)\n",
    "b1.lon.fillna(b1.lon.mean(),inplace=True)\n",
    "\n",
    "###########################################\n",
    "\n",
    "test_columns = [item for item in test.columns]\n",
    "b_columns = [item for item in b.columns]\n",
    "\n",
    "###########################################\n",
    "b1_columns = [item for item in b1.columns]\n",
    "###########################################\n",
    "\n",
    "intersect_columns = [val for val in test_columns if val in b_columns] # list of columns that are in common in test and b \n",
    "\n",
    "###########################################\n",
    "intersect_columns = [val for val in test_columns if val in b_columns]\n",
    "###########################################\n",
    "\n",
    "\n",
    "columns_to_keep = [val for val in test_columns if val in b_columns] # list of columns that are in common in test and b\n",
    "columns_to_keep.append('lat')\n",
    "columns_to_keep.append('lon')\n",
    "X = b[columns_to_keep] # here we remove all columns which are not in 'test' to avoid data leackage except lat&lon which we need them\n",
    "\n",
    "############################################\n",
    "X_t = b1[columns_to_keep]\n",
    "############################################\n",
    "\n",
    "\n",
    "X.drop(['violation_zip_code','grafitti_status'], axis=1, inplace=True) # we remove these two columns by hand because all values of them are NaN\n",
    "\n",
    "#############################################\n",
    "X_t.drop(['violation_zip_code','grafitti_status'], axis=1, inplace=True)\n",
    "#############################################\n",
    "\n",
    "y = b['compliance'] # corresponding values of 'compliance' for each row in X"
   ]
  },
  {
   "cell_type": "code",
   "execution_count": 27,
   "metadata": {
    "collapsed": false
   },
   "outputs": [
    {
     "name": "stderr",
     "output_type": "stream",
     "text": [
      "/opt/conda/lib/python3.5/site-packages/ipykernel/__main__.py:11: SettingWithCopyWarning: \n",
      "A value is trying to be set on a copy of a slice from a DataFrame\n",
      "\n",
      "See the caveats in the documentation: http://pandas.pydata.org/pandas-docs/stable/indexing.html#indexing-view-versus-copy\n",
      "/opt/conda/lib/python3.5/site-packages/ipykernel/__main__.py:12: SettingWithCopyWarning: \n",
      "A value is trying to be set on a copy of a slice from a DataFrame\n",
      "\n",
      "See the caveats in the documentation: http://pandas.pydata.org/pandas-docs/stable/indexing.html#indexing-view-versus-copy\n"
     ]
    }
   ],
   "source": [
    "''' Removing the features which are more frequent than 20% of the whole data. For example 'violator_name' is almost a \n",
    "    Value which seems not to be useful in training process'''\n",
    "entire_data_length=X.shape[0]/5\n",
    "droped_columns=[]\n",
    "for i in range(len(X.columns[:-2])): #here we exlude last two columns to be remove since they are lat and lon which we need later\n",
    "    if len(X.drop_duplicates(X.columns[i]))>entire_data_length:\n",
    "        droped_columns.append([X.columns[i]][0])\n",
    "\n",
    "droped_columns_ticket_id = droped_columns.copy()\n",
    "droped_columns.remove('ticket_id')\n",
    "X.drop(droped_columns_ticket_id,axis=1,inplace=True)\n",
    "X_t.drop(droped_columns,axis=1,inplace=True)"
   ]
  },
  {
   "cell_type": "code",
   "execution_count": 28,
   "metadata": {
    "collapsed": false
   },
   "outputs": [
    {
     "name": "stderr",
     "output_type": "stream",
     "text": [
      "/opt/conda/lib/python3.5/site-packages/ipykernel/__main__.py:4: SettingWithCopyWarning: \n",
      "A value is trying to be set on a copy of a slice from a DataFrame.\n",
      "Try using .loc[row_indexer,col_indexer] = value instead\n",
      "\n",
      "See the caveats in the documentation: http://pandas.pydata.org/pandas-docs/stable/indexing.html#indexing-view-versus-copy\n",
      "/opt/conda/lib/python3.5/site-packages/ipykernel/__main__.py:5: SettingWithCopyWarning: \n",
      "A value is trying to be set on a copy of a slice from a DataFrame.\n",
      "Try using .loc[row_indexer,col_indexer] = value instead\n",
      "\n",
      "See the caveats in the documentation: http://pandas.pydata.org/pandas-docs/stable/indexing.html#indexing-view-versus-copy\n"
     ]
    }
   ],
   "source": [
    "# here we apply the previous function to map all test phrases (such as names, explanations, ...) to numbers\n",
    "for i in X.columns:\n",
    "    if type(X[i][0])==str:\n",
    "        X[i] = X[i].apply(lambda x: round((int(hashlib.sha1(str(x).encode('utf-8')).hexdigest(),16))/(10e43)))\n",
    "        X_t[i] = X_t[i].apply(lambda x: round((int(hashlib.sha1(str(x).encode('utf-8')).hexdigest(),16))/(10e43)))\n",
    "        "
   ]
  },
  {
   "cell_type": "code",
   "execution_count": 29,
   "metadata": {
    "collapsed": false
   },
   "outputs": [
    {
     "name": "stderr",
     "output_type": "stream",
     "text": [
      "/opt/conda/lib/python3.5/site-packages/ipykernel/__main__.py:3: SettingWithCopyWarning: \n",
      "A value is trying to be set on a copy of a slice from a DataFrame.\n",
      "Try using .loc[row_indexer,col_indexer] = value instead\n",
      "\n",
      "See the caveats in the documentation: http://pandas.pydata.org/pandas-docs/stable/indexing.html#indexing-view-versus-copy\n",
      "  app.launch_new_instance()\n",
      "/opt/conda/lib/python3.5/site-packages/ipykernel/__main__.py:4: SettingWithCopyWarning: \n",
      "A value is trying to be set on a copy of a slice from a DataFrame.\n",
      "Try using .loc[row_indexer,col_indexer] = value instead\n",
      "\n",
      "See the caveats in the documentation: http://pandas.pydata.org/pandas-docs/stable/indexing.html#indexing-view-versus-copy\n",
      "/opt/conda/lib/python3.5/site-packages/ipykernel/__main__.py:5: SettingWithCopyWarning: \n",
      "A value is trying to be set on a copy of a slice from a DataFrame.\n",
      "Try using .loc[row_indexer,col_indexer] = value instead\n",
      "\n",
      "See the caveats in the documentation: http://pandas.pydata.org/pandas-docs/stable/indexing.html#indexing-view-versus-copy\n",
      "/opt/conda/lib/python3.5/site-packages/ipykernel/__main__.py:6: SettingWithCopyWarning: \n",
      "A value is trying to be set on a copy of a slice from a DataFrame.\n",
      "Try using .loc[row_indexer,col_indexer] = value instead\n",
      "\n",
      "See the caveats in the documentation: http://pandas.pydata.org/pandas-docs/stable/indexing.html#indexing-view-versus-copy\n"
     ]
    }
   ],
   "source": [
    "# here we map all lat and lon into 100 different segmentation \n",
    "segment=100\n",
    "X['lat']=round(X['lat']*segment)\n",
    "X['lon']=round(X['lon']*segment)\n",
    "X_t['lat']=round(X_t['lat']*segment)\n",
    "X_t['lon']=round(X_t['lon']*segment)"
   ]
  },
  {
   "cell_type": "markdown",
   "metadata": {},
   "source": [
    "### Hereafter we try different algorythm to perform on our data to see which one gives better results"
   ]
  },
  {
   "cell_type": "code",
   "execution_count": 67,
   "metadata": {
    "collapsed": false
   },
   "outputs": [
    {
     "name": "stdout",
     "output_type": "stream",
     "text": [
      "0.780235659544\n"
     ]
    }
   ],
   "source": [
    "X_train, X_test, y_train, y_test = train_test_split(X, y, random_state=0)\n",
    "#scaler = MinMaxScaler()\n",
    "#X_train_scaled = scaler.fit_transform(X_train)\n",
    "#X_test_scaled = scaler.transform(X_test)\n",
    "\n",
    "#clf = LogisticRegression().fit(X_train, y_train)\n",
    "#clf = RandomForestClassifier().fit(X_train, y_train)                                    # 0.99 0.94 - FP and FN [2048,447]\n",
    "#clf = GaussianNB().fit(X_train, y_train)                                                # 0.89 0.89 - FP and FN [1966,2474]\n",
    "clf = GradientBoostingClassifier().fit(X_train, y_train)                                #0.94 0.94 FP and FN [2212 66]\n",
    "#clf = GradientBoostingClassifier(learning_rate = 0.01, max_depth = 2, random_state = 0).fit(X_train, y_train) \n",
    "                                                                                         #0.93 0.93 FP and FN [2692 14]\n",
    "#clf = GradientBoostingClassifier(learning_rate = 0.1, max_depth = 3, random_state = 0).fit(X_train, y_train)    \n",
    "                                                                                         #0.94 0.94 FP and FN [2212 66]\n",
    "#clf = GradientBoostingClassifier(learning_rate = 0.2, max_depth = 6, random_state = 0).fit(X_train, y_train) \n",
    "                                                                                        #0.98 0.94 FP and FN [2150 169]\n",
    "#clf = DecisionTreeClassifier(max_depth=8).fit(X_train, y_train)\n",
    "#y_proba = clf.fit(X_train, y_train).predict_proba(X_test)\n",
    "\n",
    "#y_proba_list = list(zip(y_test[0:20], y_proba[0:20,1]))\n",
    "\n",
    "y_score = clf.fit(X_train, y_train).decision_function(X_test)\n",
    "fpr, tpr, _ = roc_curve(y_test, y_score)\n",
    "roc_auc = auc(fpr, tpr)\n",
    "print(roc_auc)\n",
    "\n",
    "clf_predicted = clf.predict(X_test)\n",
    "confusion = confusion_matrix(y_test, clf_predicted)\n",
    "\n",
    "#print('Accuracy of RF classifier on training set: {:.2f}'\n",
    "#     .format(clf.score(X_train, y_train)))\n",
    "#print('Accuracy of RF classifier on test set: {:.2f}'\n",
    "#     .format(clf.score(X_test, y_test)))\n",
    "#print('Logistic regression classifier (default settings)\\n', confusion)"
   ]
  },
  {
   "cell_type": "code",
   "execution_count": 60,
   "metadata": {
    "collapsed": true
   },
   "outputs": [],
   "source": [
    "# the order of X_t was disturbed due to data preparation in previous steps. Here we re-order the X_t based on the order of\n",
    "# ticket_id in original test.csv which is the same order as the autograder wants\n",
    "X_t = X_t.set_index('ticket_id')\n",
    "X_t = X_t.reindex(index=test['ticket_id'])\n",
    "X_t = X_t.reset_index()\n"
   ]
  },
  {
   "cell_type": "code",
   "execution_count": 61,
   "metadata": {
    "collapsed": false
   },
   "outputs": [],
   "source": [
    "X_t_without_ticket_id=X_t.copy()\n",
    "X_t_without_ticket_id.drop(['ticket_id'],axis=1,inplace=True)\n",
    "#X_t_without_ticket_id.head()\n",
    "#X_t.head()"
   ]
  },
  {
   "cell_type": "code",
   "execution_count": 62,
   "metadata": {
    "collapsed": true
   },
   "outputs": [],
   "source": [
    "def blight_model():\n",
    "    \n",
    "    # Your code here\n",
    "    \n",
    "    y_proba = clf.predict_proba(X_t_without_ticket_id)\n",
    "    ans = pd.Series(y_proba[:,1], index=test.ticket_id)\n",
    "    \n",
    "    return ans\n"
   ]
  },
  {
   "cell_type": "code",
   "execution_count": 63,
   "metadata": {
    "collapsed": false
   },
   "outputs": [
    {
     "data": {
      "text/plain": [
       "ticket_id\n",
       "284932    0.120077\n",
       "285362    0.015775\n",
       "285361    0.051208\n",
       "285338    0.060499\n",
       "285346    0.087147\n",
       "285345    0.073806\n",
       "285347    0.091039\n",
       "285342    0.900067\n",
       "285530    0.022974\n",
       "284989    0.023882\n",
       "285344    0.069127\n",
       "285343    0.024613\n",
       "285340    0.019437\n",
       "285341    0.057753\n",
       "285349    0.079705\n",
       "285348    0.067419\n",
       "284991    0.024104\n",
       "285532    0.023363\n",
       "285406    0.018113\n",
       "285001    0.037639\n",
       "285006    0.024893\n",
       "285405    0.020071\n",
       "285337    0.020073\n",
       "285496    0.051201\n",
       "285497    0.052111\n",
       "285378    0.016958\n",
       "285589    0.018963\n",
       "285585    0.042661\n",
       "285501    0.054260\n",
       "285581    0.015607\n",
       "            ...   \n",
       "376367    0.019555\n",
       "376366    0.032303\n",
       "376362    0.178950\n",
       "376363    0.193546\n",
       "376365    0.019555\n",
       "376364    0.032303\n",
       "376228    0.045374\n",
       "376265    0.030531\n",
       "376286    0.242345\n",
       "376320    0.039537\n",
       "376314    0.027603\n",
       "376327    0.371025\n",
       "376385    0.301046\n",
       "376435    0.903175\n",
       "376370    0.926049\n",
       "376434    0.061721\n",
       "376459    0.050667\n",
       "376478    0.014365\n",
       "376473    0.033468\n",
       "376484    0.026847\n",
       "376482    0.022945\n",
       "376480    0.021487\n",
       "376479    0.021487\n",
       "376481    0.021487\n",
       "376483    0.022230\n",
       "376496    0.016954\n",
       "376497    0.016954\n",
       "376499    0.052064\n",
       "376500    0.052064\n",
       "369851    0.599979\n",
       "dtype: float64"
      ]
     },
     "execution_count": 63,
     "metadata": {},
     "output_type": "execute_result"
    }
   ],
   "source": [
    "blight_model()"
   ]
  },
  {
   "cell_type": "code",
   "execution_count": null,
   "metadata": {
    "collapsed": true
   },
   "outputs": [],
   "source": []
  }
 ],
 "metadata": {
  "coursera": {
   "course_slug": "python-machine-learning",
   "graded_item_id": "nNS8l",
   "launcher_item_id": "yWWk7",
   "part_id": "w8BSS"
  },
  "kernelspec": {
   "display_name": "Python 3",
   "language": "python",
   "name": "python3"
  },
  "language_info": {
   "codemirror_mode": {
    "name": "ipython",
    "version": 3
   },
   "file_extension": ".py",
   "mimetype": "text/x-python",
   "name": "python",
   "nbconvert_exporter": "python",
   "pygments_lexer": "ipython3",
   "version": "3.5.2"
  }
 },
 "nbformat": 4,
 "nbformat_minor": 2
}
